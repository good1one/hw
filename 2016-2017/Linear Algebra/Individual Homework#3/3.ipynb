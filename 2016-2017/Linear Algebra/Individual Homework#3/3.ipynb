{
 "cells": [
  {
   "cell_type": "markdown",
   "metadata": {},
   "source": [
    "# Задание 1"
   ]
  },
  {
   "cell_type": "code",
   "execution_count": null,
   "metadata": {
    "collapsed": true
   },
   "outputs": [],
   "source": [
    "import pandas as pd\n",
    "import numpy as np"
   ]
  },
  {
   "cell_type": "code",
   "execution_count": 486,
   "metadata": {
    "collapsed": true
   },
   "outputs": [],
   "source": [
    "def d(a, i, j, k, s):\n",
    "    if (s == '-'):\n",
    "        a[i - 1, :] -= k * a[j - 1, :]\n",
    "    if (s == '+'):\n",
    "        a[i - 1, :] += k * a[j - 1, :]\n",
    "    print('& \\\\alpha_1 & \\\\alpha_2 & \\\\alpha_3 & \\\\alpha_4 & \\\\cr')\n",
    "    for i in range(len(a[:, 0])):\n",
    "        print(' & ', end='')\n",
    "        for j in range(len(a[0, :]) - 1):\n",
    "            print(a[i, j], end=' & ')\n",
    "        print(a[i, len(a[0, :] ) - 1], '\\\\cr', sep=' ')\n",
    "    print('--------------------------')\n",
    "    return\n",
    "\n",
    "def s(a, i, j):\n",
    "    temp = np.array(a[i - 1, :])\n",
    "    a[i - 1, :] = np.array(a[j - 1, :])\n",
    "    a[j - 1, :] = temp\n",
    "    print('& \\\\alpha_1 & \\\\alpha_2 & \\\\alpha_3 & \\\\alpha_4 & \\\\cr')\n",
    "    for i in range(len(a[:, 0])):\n",
    "        print(' & ', end='')\n",
    "        for j in range(len(a[0, :]) - 1):\n",
    "            print(a[i, j], end=' & ')\n",
    "        print(a[i, len(a[0, :] ) - 1], '\\\\cr', sep=' ')\n",
    "    print('--------------------------')\n",
    "    return"
   ]
  },
  {
   "cell_type": "code",
   "execution_count": 299,
   "metadata": {
    "collapsed": true
   },
   "outputs": [],
   "source": [
    "a = np.array([[-26, 1, 7, -47, 4],\n",
    "              [-13, -4, -1, 35, 2],\n",
    "              [-29, -9, 4, 16, -5],\n",
    "              [42, 6, -2, -40, -9]\n",
    "             ])"
   ]
  },
  {
   "cell_type": "code",
   "execution_count": 300,
   "metadata": {
    "collapsed": false
   },
   "outputs": [
    {
     "name": "stdout",
     "output_type": "stream",
     "text": [
      "[[-26   1   7 -47   4]\n",
      " [-13  -4  -1  35   2]\n",
      " [-29  -9   4  16  -5]\n",
      " [ 42   6  -2 -40  -9]]\n"
     ]
    }
   ],
   "source": [
    "print(a)"
   ]
  },
  {
   "cell_type": "code",
   "execution_count": 301,
   "metadata": {
    "collapsed": false
   },
   "outputs": [
    {
     "name": "stdout",
     "output_type": "stream",
     "text": [
      "-26 & 1 & 7 & -47 & 4\n",
      "-13 & -4 & -1 & 35 & 2\n",
      "-29 & -9 & 4 & 16 & -5\n",
      "29 & 2 & -3 & -5 & -7\n",
      "--------------------------\n",
      "-26 & 1 & 7 & -47 & 4\n",
      "-13 & -4 & -1 & 35 & 2\n",
      "-29 & -9 & 4 & 16 & -5\n",
      "0 & -7 & 1 & 11 & -12\n",
      "--------------------------\n"
     ]
    }
   ],
   "source": [
    "d(a, 4, 2, 1, '+')\n",
    "d(a, 4, 3, 1, '+')"
   ]
  },
  {
   "cell_type": "code",
   "execution_count": 302,
   "metadata": {
    "collapsed": false
   },
   "outputs": [
    {
     "name": "stdout",
     "output_type": "stream",
     "text": [
      "0 & 9 & 9 & -117 & 0\n",
      "-13 & -4 & -1 & 35 & 2\n",
      "-29 & -9 & 4 & 16 & -5\n",
      "0 & -7 & 1 & 11 & -12\n",
      "--------------------------\n"
     ]
    }
   ],
   "source": [
    "d(a, 1, 2, 2, '-')"
   ]
  },
  {
   "cell_type": "code",
   "execution_count": 303,
   "metadata": {
    "collapsed": false
   },
   "outputs": [
    {
     "name": "stdout",
     "output_type": "stream",
     "text": [
      "-13 & -4 & -1 & 35 & 2\n",
      "0 & 9 & 9 & -117 & 0\n",
      "-29 & -9 & 4 & 16 & -5\n",
      "0 & -7 & 1 & 11 & -12\n",
      "--------------------------\n",
      "--------------------------\n",
      "-13 & -4 & -1 & 35 & 2\n",
      "-29 & -9 & 4 & 16 & -5\n",
      "0 & 9 & 9 & -117 & 0\n",
      "0 & -7 & 1 & 11 & -12\n",
      "--------------------------\n",
      "--------------------------\n"
     ]
    }
   ],
   "source": [
    "s(a, 1, 2)\n",
    "s(a, 2, 3)"
   ]
  },
  {
   "cell_type": "code",
   "execution_count": 304,
   "metadata": {
    "collapsed": false
   },
   "outputs": [
    {
     "name": "stdout",
     "output_type": "stream",
     "text": [
      "-13 & -4 & -1 & 35 & 2\n",
      "-3 & -1 & 6 & -54 & -9\n",
      "0 & 9 & 9 & -117 & 0\n",
      "0 & -7 & 1 & 11 & -12\n",
      "--------------------------\n"
     ]
    }
   ],
   "source": [
    "d(a, 2, 1, 2, '-')"
   ]
  },
  {
   "cell_type": "code",
   "execution_count": 305,
   "metadata": {
    "collapsed": false
   },
   "outputs": [
    {
     "name": "stdout",
     "output_type": "stream",
     "text": [
      "-1 & 0 & -25 & 251 & 38\n",
      "-3 & -1 & 6 & -54 & -9\n",
      "0 & 9 & 9 & -117 & 0\n",
      "0 & -7 & 1 & 11 & -12\n",
      "--------------------------\n"
     ]
    }
   ],
   "source": [
    "d(a, 1, 2, 4, '-')"
   ]
  },
  {
   "cell_type": "code",
   "execution_count": 306,
   "metadata": {
    "collapsed": false
   },
   "outputs": [
    {
     "name": "stdout",
     "output_type": "stream",
     "text": [
      "-1 & 0 & -25 & 251 & 38\n",
      "0 & -1 & 81 & -807 & -123\n",
      "0 & 9 & 9 & -117 & 0\n",
      "0 & -7 & 1 & 11 & -12\n",
      "--------------------------\n"
     ]
    }
   ],
   "source": [
    "d(a, 2, 1, 3, '-')"
   ]
  },
  {
   "cell_type": "code",
   "execution_count": 307,
   "metadata": {
    "collapsed": false
   },
   "outputs": [
    {
     "name": "stdout",
     "output_type": "stream",
     "text": [
      "-1 & 0 & -25 & 251 & 38\n",
      "0 & -1 & 81 & -807 & -123\n",
      "0 & 0 & 738 & -7380 & -1107\n",
      "0 & -7 & 1 & 11 & -12\n",
      "--------------------------\n"
     ]
    }
   ],
   "source": [
    "d(a, 3, 2, 9, '+')"
   ]
  },
  {
   "cell_type": "code",
   "execution_count": 308,
   "metadata": {
    "collapsed": false
   },
   "outputs": [
    {
     "name": "stdout",
     "output_type": "stream",
     "text": [
      "-1 & 0 & -25 & 251 & 38\n",
      "0 & -1 & 81 & -807 & -123\n",
      "0 & 0 & 738 & -7380 & -1107\n",
      "0 & 0 & -566 & 5660 & 849\n",
      "--------------------------\n"
     ]
    }
   ],
   "source": [
    "d(a, 4, 2, 7, '-')"
   ]
  },
  {
   "cell_type": "code",
   "execution_count": 309,
   "metadata": {
    "collapsed": false
   },
   "outputs": [
    {
     "name": "stdout",
     "output_type": "stream",
     "text": [
      "-1 & 0 & -25 & 251 & 38\n",
      "0 & -1 & 81 & -807 & -123\n",
      "0 & 0 & 172 & -1720 & -258\n",
      "0 & 0 & -566 & 5660 & 849\n",
      "--------------------------\n"
     ]
    }
   ],
   "source": [
    "d(a, 3, 4, 1, '+')"
   ]
  },
  {
   "cell_type": "code",
   "execution_count": 310,
   "metadata": {
    "collapsed": false
   },
   "outputs": [
    {
     "name": "stdout",
     "output_type": "stream",
     "text": [
      "-1 & 0 & -25 & 251 & 38\n",
      "0 & -1 & 81 & -807 & -123\n",
      "0 & 0 & 172 & -1720 & -258\n",
      "0 & 0 & -50 & 500 & 75\n",
      "--------------------------\n"
     ]
    }
   ],
   "source": [
    "d(a, 4, 3, 3, '+')"
   ]
  },
  {
   "cell_type": "code",
   "execution_count": 311,
   "metadata": {
    "collapsed": false
   },
   "outputs": [
    {
     "name": "stdout",
     "output_type": "stream",
     "text": [
      "-1 & 0 & -25 & 251 & 38\n",
      "0 & -1 & 81 & -807 & -123\n",
      "0 & 0 & 22 & -220 & -33\n",
      "0 & 0 & -50 & 500 & 75\n",
      "--------------------------\n"
     ]
    }
   ],
   "source": [
    "d(a, 3, 4, 3, '+')"
   ]
  },
  {
   "cell_type": "code",
   "execution_count": 312,
   "metadata": {
    "collapsed": false
   },
   "outputs": [
    {
     "name": "stdout",
     "output_type": "stream",
     "text": [
      "-1 & 0 & -25 & 251 & 38\n",
      "0 & -1 & 81 & -807 & -123\n",
      "0 & 0 & 22 & -220 & -33\n",
      "0 & 0 & -6 & 60 & 9\n",
      "--------------------------\n"
     ]
    }
   ],
   "source": [
    "d(a, 4, 3, 2, '+')"
   ]
  },
  {
   "cell_type": "code",
   "execution_count": 313,
   "metadata": {
    "collapsed": false
   },
   "outputs": [
    {
     "name": "stdout",
     "output_type": "stream",
     "text": [
      "-1 & 0 & -25 & 251 & 38\n",
      "0 & -1 & 81 & -807 & -123\n",
      "0 & 0 & -2 & 20 & 3\n",
      "0 & 0 & -6 & 60 & 9\n",
      "--------------------------\n"
     ]
    }
   ],
   "source": [
    "d(a, 3, 4, 4, '+')"
   ]
  },
  {
   "cell_type": "code",
   "execution_count": 314,
   "metadata": {
    "collapsed": false
   },
   "outputs": [
    {
     "name": "stdout",
     "output_type": "stream",
     "text": [
      "-1 & 0 & -25 & 251 & 38\n",
      "0 & -1 & 81 & -807 & -123\n",
      "0 & 0 & -2 & 20 & 3\n",
      "0 & 0 & 0 & 0 & 0\n",
      "--------------------------\n"
     ]
    }
   ],
   "source": [
    "d(a, 4, 3, 3, '-')"
   ]
  },
  {
   "cell_type": "code",
   "execution_count": 315,
   "metadata": {
    "collapsed": false
   },
   "outputs": [
    {
     "name": "stdout",
     "output_type": "stream",
     "text": [
      "-1 & 0 & -25 & 251 & 38\n",
      "0 & -1 & 1 & -7 & -3\n",
      "0 & 0 & -2 & 20 & 3\n",
      "0 & 0 & 0 & 0 & 0\n",
      "--------------------------\n"
     ]
    }
   ],
   "source": [
    "d(a, 2, 3, 40, '+')"
   ]
  },
  {
   "cell_type": "code",
   "execution_count": 316,
   "metadata": {
    "collapsed": false
   },
   "outputs": [
    {
     "name": "stdout",
     "output_type": "stream",
     "text": [
      "-1 & 0 & -1 & 11 & 2\n",
      "0 & -1 & 1 & -7 & -3\n",
      "0 & 0 & -2 & 20 & 3\n",
      "0 & 0 & 0 & 0 & 0\n",
      "--------------------------\n"
     ]
    }
   ],
   "source": [
    "d(a, 1, 3, 12, '-')"
   ]
  },
  {
   "cell_type": "code",
   "execution_count": 317,
   "metadata": {
    "collapsed": false
   },
   "outputs": [
    {
     "name": "stdout",
     "output_type": "stream",
     "text": [
      "-1 & 0 & 1 & -9 & -1\n",
      "0 & -1 & 1 & -7 & -3\n",
      "0 & 0 & -2 & 20 & 3\n",
      "0 & 0 & 0 & 0 & 0\n",
      "--------------------------\n"
     ]
    }
   ],
   "source": [
    "d(a, 1, 3, 1, '-')"
   ]
  },
  {
   "cell_type": "markdown",
   "metadata": {},
   "source": [
    "# Задание 2"
   ]
  },
  {
   "cell_type": "code",
   "execution_count": 318,
   "metadata": {
    "collapsed": true
   },
   "outputs": [],
   "source": [
    "b = np.array([[-34, -26, -152, 10],\n",
    "              [-4, 7, -38, -29],\n",
    "              [-16, -19, -58, 25],\n",
    "              [-3, -5, -8, 9]\n",
    "             ])"
   ]
  },
  {
   "cell_type": "code",
   "execution_count": 319,
   "metadata": {
    "collapsed": false
   },
   "outputs": [
    {
     "name": "stdout",
     "output_type": "stream",
     "text": [
      "[[ -34  -26 -152   10]\n",
      " [  -4    7  -38  -29]\n",
      " [ -16  -19  -58   25]\n",
      " [  -3   -5   -8    9]]\n"
     ]
    }
   ],
   "source": [
    "print(b)"
   ]
  },
  {
   "cell_type": "code",
   "execution_count": 320,
   "metadata": {
    "collapsed": false
   },
   "outputs": [
    {
     "name": "stdout",
     "output_type": "stream",
     "text": [
      "-2 & 12 & -36 & -40\n",
      "-4 & 7 & -38 & -29\n",
      "-16 & -19 & -58 & 25\n",
      "-3 & -5 & -8 & 9\n",
      "--------------------------\n"
     ]
    }
   ],
   "source": [
    "d(b, 1, 3, 2, '-')"
   ]
  },
  {
   "cell_type": "code",
   "execution_count": 321,
   "metadata": {
    "collapsed": false
   },
   "outputs": [
    {
     "name": "stdout",
     "output_type": "stream",
     "text": [
      "-2 & 12 & -36 & -40\n",
      "-4 & 7 & -38 & -29\n",
      "0 & -47 & 94 & 141\n",
      "-3 & -5 & -8 & 9\n",
      "--------------------------\n"
     ]
    }
   ],
   "source": [
    "d(b, 3, 2, 4, '-')"
   ]
  },
  {
   "cell_type": "code",
   "execution_count": 322,
   "metadata": {
    "collapsed": false
   },
   "outputs": [
    {
     "name": "stdout",
     "output_type": "stream",
     "text": [
      "-2 & 12 & -36 & -40\n",
      "0 & -17 & 34 & 51\n",
      "0 & -47 & 94 & 141\n",
      "-3 & -5 & -8 & 9\n",
      "--------------------------\n"
     ]
    }
   ],
   "source": [
    "d(b, 2, 1, 2, '-')"
   ]
  },
  {
   "cell_type": "code",
   "execution_count": 323,
   "metadata": {
    "collapsed": false
   },
   "outputs": [
    {
     "name": "stdout",
     "output_type": "stream",
     "text": [
      "1 & 17 & -28 & -49\n",
      "0 & -17 & 34 & 51\n",
      "0 & -47 & 94 & 141\n",
      "-3 & -5 & -8 & 9\n",
      "--------------------------\n"
     ]
    }
   ],
   "source": [
    "d(b, 1, 4, 1, '-')"
   ]
  },
  {
   "cell_type": "code",
   "execution_count": 324,
   "metadata": {
    "collapsed": false
   },
   "outputs": [
    {
     "name": "stdout",
     "output_type": "stream",
     "text": [
      "1 & 17 & -28 & -49\n",
      "0 & -17 & 34 & 51\n",
      "0 & -47 & 94 & 141\n",
      "0 & 46 & -92 & -138\n",
      "--------------------------\n"
     ]
    }
   ],
   "source": [
    "d(b, 4, 1, 3, '+')"
   ]
  },
  {
   "cell_type": "code",
   "execution_count": 325,
   "metadata": {
    "collapsed": false
   },
   "outputs": [
    {
     "name": "stdout",
     "output_type": "stream",
     "text": [
      "1 & 17 & -28 & -49\n",
      "0 & -17 & 34 & 51\n",
      "0 & -1 & 2 & 3\n",
      "0 & 46 & -92 & -138\n",
      "--------------------------\n"
     ]
    }
   ],
   "source": [
    "d(b, 3, 4, 1, '+')"
   ]
  },
  {
   "cell_type": "code",
   "execution_count": 326,
   "metadata": {
    "collapsed": false
   },
   "outputs": [
    {
     "name": "stdout",
     "output_type": "stream",
     "text": [
      "1 & 17 & -28 & -49\n",
      "0 & 0 & 0 & 0\n",
      "0 & -1 & 2 & 3\n",
      "0 & 46 & -92 & -138\n",
      "--------------------------\n"
     ]
    }
   ],
   "source": [
    "d(b, 2, 3, 17, '-')"
   ]
  },
  {
   "cell_type": "code",
   "execution_count": 327,
   "metadata": {
    "collapsed": false
   },
   "outputs": [
    {
     "name": "stdout",
     "output_type": "stream",
     "text": [
      "1 & 17 & -28 & -49\n",
      "0 & 0 & 0 & 0\n",
      "0 & -1 & 2 & 3\n",
      "0 & 0 & 0 & 0\n",
      "--------------------------\n"
     ]
    }
   ],
   "source": [
    "d(b, 4, 3, 46, '+')"
   ]
  },
  {
   "cell_type": "code",
   "execution_count": 328,
   "metadata": {
    "collapsed": false
   },
   "outputs": [
    {
     "name": "stdout",
     "output_type": "stream",
     "text": [
      "1 & 0 & 6 & 2\n",
      "0 & 0 & 0 & 0\n",
      "0 & -1 & 2 & 3\n",
      "0 & 0 & 0 & 0\n",
      "--------------------------\n"
     ]
    }
   ],
   "source": [
    "d(b, 1, 3, 17, '+')"
   ]
  },
  {
   "cell_type": "markdown",
   "metadata": {},
   "source": [
    "# Задание 3"
   ]
  },
  {
   "cell_type": "code",
   "execution_count": 347,
   "metadata": {
    "collapsed": true
   },
   "outputs": [],
   "source": [
    "c = np.array([\n",
    "        [-4, -6, -7, 0],\n",
    "        [0, -1, -3, -4],\n",
    "        [-8, -11, -11, 4],\n",
    "        [-4, -4, -1, 8]\n",
    "    ])"
   ]
  },
  {
   "cell_type": "code",
   "execution_count": 348,
   "metadata": {
    "collapsed": false
   },
   "outputs": [
    {
     "name": "stdout",
     "output_type": "stream",
     "text": [
      "[[ -4  -6  -7   0]\n",
      " [  0  -1  -3  -4]\n",
      " [ -8 -11 -11   4]\n",
      " [ -4  -4  -1   8]]\n"
     ]
    }
   ],
   "source": [
    "print(c)"
   ]
  },
  {
   "cell_type": "code",
   "execution_count": 349,
   "metadata": {
    "collapsed": false
   },
   "outputs": [
    {
     "name": "stdout",
     "output_type": "stream",
     "text": [
      "-4 & -6 & -7 & 0 \\\\\n",
      "0 & -1 & -3 & -4 \\\\\n",
      "-8 & -11 & -11 & 4 \\\\\n",
      "-4 & -4 & -1 & 8 \\\\\n",
      "--------------------------\n"
     ]
    }
   ],
   "source": [
    "d(c, 1, 2, 0, '+')"
   ]
  },
  {
   "cell_type": "code",
   "execution_count": 350,
   "metadata": {
    "collapsed": false
   },
   "outputs": [
    {
     "name": "stdout",
     "output_type": "stream",
     "text": [
      "-4 & -6 & -7 & 0 \\\\\n",
      "0 & -1 & -3 & -4 \\\\\n",
      "0 & 1 & 3 & 4 \\\\\n",
      "-4 & -4 & -1 & 8 \\\\\n",
      "--------------------------\n"
     ]
    }
   ],
   "source": [
    "d(c, 3, 1, 2, '-')"
   ]
  },
  {
   "cell_type": "code",
   "execution_count": 351,
   "metadata": {
    "collapsed": false
   },
   "outputs": [
    {
     "name": "stdout",
     "output_type": "stream",
     "text": [
      "-4 & -6 & -7 & 0 \\\\\n",
      "0 & -1 & -3 & -4 \\\\\n",
      "0 & 1 & 3 & 4 \\\\\n",
      "0 & 2 & 6 & 8 \\\\\n",
      "--------------------------\n"
     ]
    }
   ],
   "source": [
    "d(c, 4, 1, 1, '-')"
   ]
  },
  {
   "cell_type": "code",
   "execution_count": 352,
   "metadata": {
    "collapsed": false
   },
   "outputs": [
    {
     "name": "stdout",
     "output_type": "stream",
     "text": [
      "-4 & -6 & -7 & 0 \\\\\n",
      "0 & 0 & 0 & 0 \\\\\n",
      "0 & 1 & 3 & 4 \\\\\n",
      "0 & 2 & 6 & 8 \\\\\n",
      "--------------------------\n"
     ]
    }
   ],
   "source": [
    "d(c, 2, 3, 1, '+')"
   ]
  },
  {
   "cell_type": "code",
   "execution_count": 353,
   "metadata": {
    "collapsed": false
   },
   "outputs": [
    {
     "name": "stdout",
     "output_type": "stream",
     "text": [
      "-4 & -6 & -7 & 0 \\\\\n",
      "0 & 0 & 0 & 0 \\\\\n",
      "0 & 1 & 3 & 4 \\\\\n",
      "0 & 0 & 0 & 0 \\\\\n",
      "--------------------------\n"
     ]
    }
   ],
   "source": [
    "d(c, 4, 3, 2, '-')"
   ]
  },
  {
   "cell_type": "code",
   "execution_count": 354,
   "metadata": {
    "collapsed": true
   },
   "outputs": [],
   "source": [
    "e = np.array([\n",
    "        [8, 12, 14, 0],\n",
    "        [8, 11, 11, -4],\n",
    "        [8, 13, 17, 4],\n",
    "        [-8, -10, -8, 8]\n",
    "    ])"
   ]
  },
  {
   "cell_type": "code",
   "execution_count": 355,
   "metadata": {
    "collapsed": false
   },
   "outputs": [
    {
     "name": "stdout",
     "output_type": "stream",
     "text": [
      "[[  8  12  14   0]\n",
      " [  8  11  11  -4]\n",
      " [  8  13  17   4]\n",
      " [ -8 -10  -8   8]]\n"
     ]
    }
   ],
   "source": [
    "print(e)"
   ]
  },
  {
   "cell_type": "code",
   "execution_count": 356,
   "metadata": {
    "collapsed": false
   },
   "outputs": [
    {
     "name": "stdout",
     "output_type": "stream",
     "text": [
      "8 & 12 & 14 & 0 \\\\\n",
      "8 & 11 & 11 & -4 \\\\\n",
      "8 & 13 & 17 & 4 \\\\\n",
      "-8 & -10 & -8 & 8 \\\\\n",
      "--------------------------\n"
     ]
    }
   ],
   "source": [
    "d(e, 1, 2, 0, '+')"
   ]
  },
  {
   "cell_type": "code",
   "execution_count": 358,
   "metadata": {
    "collapsed": false
   },
   "outputs": [
    {
     "name": "stdout",
     "output_type": "stream",
     "text": [
      "8 & 12 & 14 & 0 \\\\\n",
      "8 & 11 & 11 & -4 \\\\\n",
      "8 & 13 & 17 & 4 \\\\\n",
      "0 & 2 & 6 & 8 \\\\\n",
      "--------------------------\n"
     ]
    }
   ],
   "source": [
    "d(e, 4, 1, 1, '+')"
   ]
  },
  {
   "cell_type": "code",
   "execution_count": 359,
   "metadata": {
    "collapsed": false
   },
   "outputs": [
    {
     "name": "stdout",
     "output_type": "stream",
     "text": [
      "8 & 12 & 14 & 0 \\\\\n",
      "8 & 11 & 11 & -4 \\\\\n",
      "0 & 1 & 3 & 4 \\\\\n",
      "0 & 2 & 6 & 8 \\\\\n",
      "--------------------------\n"
     ]
    }
   ],
   "source": [
    "d(e, 3, 1, 1, '-')"
   ]
  },
  {
   "cell_type": "code",
   "execution_count": 360,
   "metadata": {
    "collapsed": false
   },
   "outputs": [
    {
     "name": "stdout",
     "output_type": "stream",
     "text": [
      "8 & 12 & 14 & 0 \\\\\n",
      "0 & -1 & -3 & -4 \\\\\n",
      "0 & 1 & 3 & 4 \\\\\n",
      "0 & 2 & 6 & 8 \\\\\n",
      "--------------------------\n"
     ]
    }
   ],
   "source": [
    "d(e, 2, 1, 1, '-')"
   ]
  },
  {
   "cell_type": "code",
   "execution_count": 361,
   "metadata": {
    "collapsed": false
   },
   "outputs": [
    {
     "name": "stdout",
     "output_type": "stream",
     "text": [
      "8 & 12 & 14 & 0 \\\\\n",
      "0 & -1 & -3 & -4 \\\\\n",
      "0 & 1 & 3 & 4 \\\\\n",
      "0 & 0 & 0 & 0 \\\\\n",
      "--------------------------\n"
     ]
    }
   ],
   "source": [
    "d(e, 4, 3, 2, '-')"
   ]
  },
  {
   "cell_type": "code",
   "execution_count": 362,
   "metadata": {
    "collapsed": false
   },
   "outputs": [
    {
     "name": "stdout",
     "output_type": "stream",
     "text": [
      "8 & 12 & 14 & 0 \\\\\n",
      "0 & -1 & -3 & -4 \\\\\n",
      "0 & 0 & 0 & 0 \\\\\n",
      "0 & 0 & 0 & 0 \\\\\n",
      "--------------------------\n"
     ]
    }
   ],
   "source": [
    "d(e, 3, 2, 1, '+')"
   ]
  },
  {
   "cell_type": "code",
   "execution_count": 363,
   "metadata": {
    "collapsed": true
   },
   "outputs": [],
   "source": [
    "f = np.array([\n",
    "        [-4, -6, -7, 0],\n",
    "        [0, 1, 3, 4],\n",
    "        [8, 12, 14, 0],\n",
    "        [0, -1, -3, -4]\n",
    "    ])"
   ]
  },
  {
   "cell_type": "code",
   "execution_count": 364,
   "metadata": {
    "collapsed": false
   },
   "outputs": [
    {
     "name": "stdout",
     "output_type": "stream",
     "text": [
      "[[-4 -6 -7  0]\n",
      " [ 0  1  3  4]\n",
      " [ 8 12 14  0]\n",
      " [ 0 -1 -3 -4]]\n"
     ]
    }
   ],
   "source": [
    "print(f)"
   ]
  },
  {
   "cell_type": "code",
   "execution_count": 365,
   "metadata": {
    "collapsed": false
   },
   "outputs": [
    {
     "name": "stdout",
     "output_type": "stream",
     "text": [
      "-4 & -6 & -7 & 0 \\\\\n",
      "0 & 1 & 3 & 4 \\\\\n",
      "8 & 12 & 14 & 0 \\\\\n",
      "0 & -1 & -3 & -4 \\\\\n",
      "--------------------------\n"
     ]
    }
   ],
   "source": [
    "d(f, 1, 2, 0, '+')"
   ]
  },
  {
   "cell_type": "code",
   "execution_count": 366,
   "metadata": {
    "collapsed": false
   },
   "outputs": [
    {
     "name": "stdout",
     "output_type": "stream",
     "text": [
      "-4 & -6 & -7 & 0 \\\\\n",
      "0 & 1 & 3 & 4 \\\\\n",
      "0 & 0 & 0 & 0 \\\\\n",
      "0 & -1 & -3 & -4 \\\\\n",
      "--------------------------\n"
     ]
    }
   ],
   "source": [
    "d(f, 3, 1, 2, '+')"
   ]
  },
  {
   "cell_type": "code",
   "execution_count": 367,
   "metadata": {
    "collapsed": false
   },
   "outputs": [
    {
     "name": "stdout",
     "output_type": "stream",
     "text": [
      "-4 & -6 & -7 & 0 \\\\\n",
      "0 & 1 & 3 & 4 \\\\\n",
      "0 & 0 & 0 & 0 \\\\\n",
      "0 & 0 & 0 & 0 \\\\\n",
      "--------------------------\n"
     ]
    }
   ],
   "source": [
    "d(f, 4, 2, 1, '+')"
   ]
  },
  {
   "cell_type": "code",
   "execution_count": 368,
   "metadata": {
    "collapsed": true
   },
   "outputs": [],
   "source": [
    "a = np.array([\n",
    "        [-4, 0, 8, 0],\n",
    "        [-6, 1, 12, -1],\n",
    "        [-7, 3, 14, -3],\n",
    "        [0, 4, 0, -4]\n",
    "    ])"
   ]
  },
  {
   "cell_type": "code",
   "execution_count": 369,
   "metadata": {
    "collapsed": false
   },
   "outputs": [
    {
     "name": "stdout",
     "output_type": "stream",
     "text": [
      "[[-4  0  8  0]\n",
      " [-6  1 12 -1]\n",
      " [-7  3 14 -3]\n",
      " [ 0  4  0 -4]]\n"
     ]
    }
   ],
   "source": [
    "print(a)"
   ]
  },
  {
   "cell_type": "code",
   "execution_count": 370,
   "metadata": {
    "collapsed": false
   },
   "outputs": [
    {
     "name": "stdout",
     "output_type": "stream",
     "text": [
      "-4 & 0 & 8 & 0 \\\\\n",
      "1 & -2 & -2 & 2 \\\\\n",
      "-7 & 3 & 14 & -3 \\\\\n",
      "0 & 4 & 0 & -4 \\\\\n",
      "--------------------------\n"
     ]
    }
   ],
   "source": [
    "d(a, 2, 3, 1, '-')"
   ]
  },
  {
   "cell_type": "code",
   "execution_count": 371,
   "metadata": {
    "collapsed": false
   },
   "outputs": [
    {
     "name": "stdout",
     "output_type": "stream",
     "text": [
      "0 & -8 & 0 & 8 \\\\\n",
      "1 & -2 & -2 & 2 \\\\\n",
      "-7 & 3 & 14 & -3 \\\\\n",
      "0 & 4 & 0 & -4 \\\\\n",
      "--------------------------\n"
     ]
    }
   ],
   "source": [
    "d(a, 1, 2, 4, '+')"
   ]
  },
  {
   "cell_type": "code",
   "execution_count": 372,
   "metadata": {
    "collapsed": false
   },
   "outputs": [
    {
     "name": "stdout",
     "output_type": "stream",
     "text": [
      "0 & -8 & 0 & 8 \\\\\n",
      "1 & -2 & -2 & 2 \\\\\n",
      "0 & -11 & 0 & 11 \\\\\n",
      "0 & 4 & 0 & -4 \\\\\n",
      "--------------------------\n"
     ]
    }
   ],
   "source": [
    "d(a, 3, 2, 7, '+')"
   ]
  },
  {
   "cell_type": "code",
   "execution_count": 378,
   "metadata": {
    "collapsed": false
   },
   "outputs": [
    {
     "name": "stdout",
     "output_type": "stream",
     "text": [
      "0 & -8 & 0 & 8 \\\\\n",
      "1 & -2 & -2 & 2 \\\\\n",
      "0 & -11 & 0 & 11 \\\\\n",
      "0 & 4 & 0 & -4 \\\\\n",
      "--------------------------\n"
     ]
    }
   ],
   "source": [
    "s(a, 1, 2)"
   ]
  },
  {
   "cell_type": "markdown",
   "metadata": {},
   "source": [
    "# Задание 4"
   ]
  },
  {
   "cell_type": "code",
   "execution_count": 452,
   "metadata": {
    "collapsed": true
   },
   "outputs": [],
   "source": [
    "b = np.array([\n",
    "        [10, -16, -10, 19],\n",
    "        [-2, 18, 19, -7],\n",
    "        [15, -2, 10, 3],\n",
    "        [-2, 25, 24, -10]\n",
    "    ])"
   ]
  },
  {
   "cell_type": "code",
   "execution_count": 453,
   "metadata": {
    "collapsed": false
   },
   "outputs": [
    {
     "name": "stdout",
     "output_type": "stream",
     "text": [
      "[[ 10 -16 -10  19]\n",
      " [ -2  18  19  -7]\n",
      " [ 15  -2  10   3]\n",
      " [ -2  25  24 -10]]\n"
     ]
    }
   ],
   "source": [
    "print(b)"
   ]
  },
  {
   "cell_type": "code",
   "execution_count": 454,
   "metadata": {
    "collapsed": false
   },
   "outputs": [
    {
     "name": "stdout",
     "output_type": "stream",
     "text": [
      "10 & -16 & -10 & 19 \\\\\n",
      "-2 & 18 & 19 & -7 \\\\\n",
      "15 & -2 & 10 & 3 \\\\\n",
      "-2 & 25 & 24 & -10 \\\\\n",
      "--------------------------\n"
     ]
    }
   ],
   "source": [
    "d(b, 1, 2, 0, '+')"
   ]
  },
  {
   "cell_type": "code",
   "execution_count": 455,
   "metadata": {
    "collapsed": false
   },
   "outputs": [
    {
     "name": "stdout",
     "output_type": "stream",
     "text": [
      "10 & -16 & -10 & 19 \\\\\n",
      "-2 & 18 & 19 & -7 \\\\\n",
      "5 & 14 & 20 & -16 \\\\\n",
      "-2 & 25 & 24 & -10 \\\\\n",
      "--------------------------\n"
     ]
    }
   ],
   "source": [
    "d(b, 3, 1, 1, '-')"
   ]
  },
  {
   "cell_type": "code",
   "execution_count": 456,
   "metadata": {
    "collapsed": false
   },
   "outputs": [
    {
     "name": "stdout",
     "output_type": "stream",
     "text": [
      "0 & -44 & -50 & 51 \\\\\n",
      "-2 & 18 & 19 & -7 \\\\\n",
      "5 & 14 & 20 & -16 \\\\\n",
      "-2 & 25 & 24 & -10 \\\\\n",
      "--------------------------\n"
     ]
    }
   ],
   "source": [
    "d(b, 1, 3, 2, '-')"
   ]
  },
  {
   "cell_type": "code",
   "execution_count": 457,
   "metadata": {
    "collapsed": false
   },
   "outputs": [
    {
     "name": "stdout",
     "output_type": "stream",
     "text": [
      "0 & -44 & -50 & 51 \\\\\n",
      "-2 & 18 & 19 & -7 \\\\\n",
      "5 & 14 & 20 & -16 \\\\\n",
      "0 & 7 & 5 & -3 \\\\\n",
      "--------------------------\n"
     ]
    }
   ],
   "source": [
    "d(b, 4, 2, 1, '-')"
   ]
  },
  {
   "cell_type": "code",
   "execution_count": 458,
   "metadata": {
    "collapsed": false
   },
   "outputs": [
    {
     "name": "stdout",
     "output_type": "stream",
     "text": [
      "0 & -44 & -50 & 51 \\\\\n",
      "-2 & 18 & 19 & -7 \\\\\n",
      "1 & 50 & 58 & -30 \\\\\n",
      "0 & 7 & 5 & -3 \\\\\n",
      "--------------------------\n"
     ]
    }
   ],
   "source": [
    "d(b, 3, 2, 2, '+')"
   ]
  },
  {
   "cell_type": "code",
   "execution_count": 459,
   "metadata": {
    "collapsed": false
   },
   "outputs": [
    {
     "name": "stdout",
     "output_type": "stream",
     "text": [
      "0 & -44 & -50 & 51 \\\\\n",
      "0 & 118 & 135 & -67 \\\\\n",
      "1 & 50 & 58 & -30 \\\\\n",
      "0 & 7 & 5 & -3 \\\\\n",
      "--------------------------\n"
     ]
    }
   ],
   "source": [
    "d(b, 2, 3, 2, '+')"
   ]
  },
  {
   "cell_type": "code",
   "execution_count": 460,
   "metadata": {
    "collapsed": false
   },
   "outputs": [
    {
     "name": "stdout",
     "output_type": "stream",
     "text": [
      "1 & 50 & 58 & -30 \\\\\n",
      "0 & 118 & 135 & -67 \\\\\n",
      "0 & -44 & -50 & 51 \\\\\n",
      "0 & 7 & 5 & -3 \\\\\n",
      "--------------------------\n"
     ]
    }
   ],
   "source": [
    "s(b, 1, 3)"
   ]
  },
  {
   "cell_type": "code",
   "execution_count": 461,
   "metadata": {
    "collapsed": false
   },
   "outputs": [
    {
     "name": "stdout",
     "output_type": "stream",
     "text": [
      "1 & 50 & 58 & -30 \\\\\n",
      "0 & 30 & 35 & 35 \\\\\n",
      "0 & -44 & -50 & 51 \\\\\n",
      "0 & 7 & 5 & -3 \\\\\n",
      "--------------------------\n"
     ]
    }
   ],
   "source": [
    "d(b, 2, 3, 2, '+')"
   ]
  },
  {
   "cell_type": "code",
   "execution_count": 462,
   "metadata": {
    "collapsed": false
   },
   "outputs": [
    {
     "name": "stdout",
     "output_type": "stream",
     "text": [
      "1 & 50 & 58 & -30 \\\\\n",
      "0 & 30 & 35 & 35 \\\\\n",
      "0 & -14 & -15 & 86 \\\\\n",
      "0 & 7 & 5 & -3 \\\\\n",
      "--------------------------\n"
     ]
    }
   ],
   "source": [
    "d(b, 3, 2, 1, '+')"
   ]
  },
  {
   "cell_type": "code",
   "execution_count": 463,
   "metadata": {
    "collapsed": false
   },
   "outputs": [
    {
     "name": "stdout",
     "output_type": "stream",
     "text": [
      "1 & 50 & 58 & -30 \\\\\n",
      "0 & 30 & 35 & 35 \\\\\n",
      "0 & 0 & -5 & 80 \\\\\n",
      "0 & 7 & 5 & -3 \\\\\n",
      "--------------------------\n"
     ]
    }
   ],
   "source": [
    "d(b, 3, 4, 2, '+')"
   ]
  },
  {
   "cell_type": "code",
   "execution_count": 464,
   "metadata": {
    "collapsed": false
   },
   "outputs": [
    {
     "name": "stdout",
     "output_type": "stream",
     "text": [
      "1 & 50 & 58 & -30 \\\\\n",
      "0 & 2 & 15 & 47 \\\\\n",
      "0 & 0 & -5 & 80 \\\\\n",
      "0 & 7 & 5 & -3 \\\\\n",
      "--------------------------\n"
     ]
    }
   ],
   "source": [
    "d(b, 2, 4, 4, '-')"
   ]
  },
  {
   "cell_type": "code",
   "execution_count": 465,
   "metadata": {
    "collapsed": false
   },
   "outputs": [
    {
     "name": "stdout",
     "output_type": "stream",
     "text": [
      "1 & 50 & 58 & -30 \\\\\n",
      "0 & 2 & 15 & 47 \\\\\n",
      "0 & 0 & -5 & 80 \\\\\n",
      "0 & 1 & -40 & -144 \\\\\n",
      "--------------------------\n"
     ]
    }
   ],
   "source": [
    "d(b, 4, 2, 3, '-')"
   ]
  },
  {
   "cell_type": "code",
   "execution_count": 466,
   "metadata": {
    "collapsed": false
   },
   "outputs": [
    {
     "name": "stdout",
     "output_type": "stream",
     "text": [
      "1 & 50 & 58 & -30 \\\\\n",
      "0 & 0 & 95 & 335 \\\\\n",
      "0 & 0 & -5 & 80 \\\\\n",
      "0 & 1 & -40 & -144 \\\\\n",
      "--------------------------\n"
     ]
    }
   ],
   "source": [
    "d(b, 2, 4, 2, '-')"
   ]
  },
  {
   "cell_type": "code",
   "execution_count": 467,
   "metadata": {
    "collapsed": false
   },
   "outputs": [
    {
     "name": "stdout",
     "output_type": "stream",
     "text": [
      "1 & 50 & 58 & -30 \\\\\n",
      "0 & 1 & -40 & -144 \\\\\n",
      "0 & 0 & -5 & 80 \\\\\n",
      "0 & 0 & 95 & 335 \\\\\n",
      "--------------------------\n"
     ]
    }
   ],
   "source": [
    "s(b, 2, 4)"
   ]
  },
  {
   "cell_type": "code",
   "execution_count": 469,
   "metadata": {
    "collapsed": false
   },
   "outputs": [
    {
     "name": "stdout",
     "output_type": "stream",
     "text": [
      "1 & 50 & 58 & -30 \\\\\n",
      "0 & 1 & -40 & -144 \\\\\n",
      "0 & 0 & -5 & 80 \\\\\n",
      "0 & 0 & 0 & 1855 \\\\\n",
      "--------------------------\n"
     ]
    }
   ],
   "source": [
    "d(b, 4, 3, 19, '+')"
   ]
  },
  {
   "cell_type": "code",
   "execution_count": 434,
   "metadata": {
    "collapsed": false
   },
   "outputs": [
    {
     "name": "stdout",
     "output_type": "stream",
     "text": [
      "1 & 50 & 58 & -30 \\\\\n",
      "0 & 7 & 5 & -3 \\\\\n",
      "0 & 0 & -5 & 80 \\\\\n",
      "0 & 2 & 15 & 47 \\\\\n",
      "--------------------------\n"
     ]
    }
   ],
   "source": [
    "d(b, 2, 4, 3, '+')"
   ]
  },
  {
   "cell_type": "code",
   "execution_count": 487,
   "metadata": {
    "collapsed": true
   },
   "outputs": [],
   "source": [
    "a = np.array([\n",
    "        [10, -2, 15, -2, 25],\n",
    "        [-16, 18, -2, 25, -18],\n",
    "        [-10, 19, 10, 24, 0],\n",
    "        [19, -7, 3, -10, 22]\n",
    "    ])"
   ]
  },
  {
   "cell_type": "code",
   "execution_count": 488,
   "metadata": {
    "collapsed": false
   },
   "outputs": [
    {
     "name": "stdout",
     "output_type": "stream",
     "text": [
      "[[ 10  -2  15  -2  25]\n",
      " [-16  18  -2  25 -18]\n",
      " [-10  19  10  24   0]\n",
      " [ 19  -7   3 -10  22]]\n"
     ]
    }
   ],
   "source": [
    "print(a)"
   ]
  },
  {
   "cell_type": "code",
   "execution_count": 489,
   "metadata": {
    "collapsed": false
   },
   "outputs": [
    {
     "name": "stdout",
     "output_type": "stream",
     "text": [
      "& \\alpha_1 & \\alpha_2 & \\alpha_3 & \\alpha_4 & \\cr\n",
      " & 10 & -2 & 15 & -2 & 25 \\cr\n",
      " & -16 & 18 & -2 & 25 & -18 \\cr\n",
      " & -10 & 19 & 10 & 24 & 0 \\cr\n",
      " & 19 & -7 & 3 & -10 & 22 \\cr\n",
      "--------------------------\n"
     ]
    }
   ],
   "source": [
    "d(a, 1, 2, 0, '+')"
   ]
  },
  {
   "cell_type": "code",
   "execution_count": 490,
   "metadata": {
    "collapsed": false
   },
   "outputs": [
    {
     "name": "stdout",
     "output_type": "stream",
     "text": [
      "& \\alpha_1 & \\alpha_2 & \\alpha_3 & \\alpha_4 & \\cr\n",
      " & 10 & -2 & 15 & -2 & 25 \\cr\n",
      " & -16 & 18 & -2 & 25 & -18 \\cr\n",
      " & 0 & 17 & 25 & 22 & 25 \\cr\n",
      " & 19 & -7 & 3 & -10 & 22 \\cr\n",
      "--------------------------\n"
     ]
    }
   ],
   "source": [
    "d(a, 3, 1, 1, '+')"
   ]
  },
  {
   "cell_type": "code",
   "execution_count": 491,
   "metadata": {
    "collapsed": false
   },
   "outputs": [
    {
     "name": "stdout",
     "output_type": "stream",
     "text": [
      "& \\alpha_1 & \\alpha_2 & \\alpha_3 & \\alpha_4 & \\cr\n",
      " & 10 & -2 & 15 & -2 & 25 \\cr\n",
      " & -16 & 18 & -2 & 25 & -18 \\cr\n",
      " & 0 & 17 & 25 & 22 & 25 \\cr\n",
      " & -1 & -3 & -27 & -6 & -28 \\cr\n",
      "--------------------------\n"
     ]
    }
   ],
   "source": [
    "d(a, 4, 1, 2, '-')"
   ]
  },
  {
   "cell_type": "code",
   "execution_count": 492,
   "metadata": {
    "collapsed": false
   },
   "outputs": [
    {
     "name": "stdout",
     "output_type": "stream",
     "text": [
      "& \\alpha_1 & \\alpha_2 & \\alpha_3 & \\alpha_4 & \\cr\n",
      " & 0 & -32 & -255 & -62 & -255 \\cr\n",
      " & -16 & 18 & -2 & 25 & -18 \\cr\n",
      " & 0 & 17 & 25 & 22 & 25 \\cr\n",
      " & -1 & -3 & -27 & -6 & -28 \\cr\n",
      "--------------------------\n"
     ]
    }
   ],
   "source": [
    "d(a, 1, 4, 10, '+')"
   ]
  },
  {
   "cell_type": "code",
   "execution_count": 493,
   "metadata": {
    "collapsed": false
   },
   "outputs": [
    {
     "name": "stdout",
     "output_type": "stream",
     "text": [
      "& \\alpha_1 & \\alpha_2 & \\alpha_3 & \\alpha_4 & \\cr\n",
      " & 0 & -32 & -255 & -62 & -255 \\cr\n",
      " & 0 & 66 & 430 & 121 & 430 \\cr\n",
      " & 0 & 17 & 25 & 22 & 25 \\cr\n",
      " & -1 & -3 & -27 & -6 & -28 \\cr\n",
      "--------------------------\n"
     ]
    }
   ],
   "source": [
    "d(a, 2, 4, 16, '-')"
   ]
  },
  {
   "cell_type": "code",
   "execution_count": 494,
   "metadata": {
    "collapsed": false
   },
   "outputs": [
    {
     "name": "stdout",
     "output_type": "stream",
     "text": [
      "& \\alpha_1 & \\alpha_2 & \\alpha_3 & \\alpha_4 & \\cr\n",
      " & -1 & -3 & -27 & -6 & -28 \\cr\n",
      " & 0 & 66 & 430 & 121 & 430 \\cr\n",
      " & 0 & 17 & 25 & 22 & 25 \\cr\n",
      " & 0 & -32 & -255 & -62 & -255 \\cr\n",
      "--------------------------\n"
     ]
    }
   ],
   "source": [
    "s(a, 1, 4)"
   ]
  },
  {
   "cell_type": "code",
   "execution_count": 495,
   "metadata": {
    "collapsed": false
   },
   "outputs": [
    {
     "name": "stdout",
     "output_type": "stream",
     "text": [
      "& \\alpha_1 & \\alpha_2 & \\alpha_3 & \\alpha_4 & \\cr\n",
      " & -1 & -3 & -27 & -6 & -28 \\cr\n",
      " & 0 & 2 & -80 & -3 & -80 \\cr\n",
      " & 0 & 17 & 25 & 22 & 25 \\cr\n",
      " & 0 & -32 & -255 & -62 & -255 \\cr\n",
      "--------------------------\n"
     ]
    }
   ],
   "source": [
    "d(a, 2, 4, 2, '+')"
   ]
  },
  {
   "cell_type": "code",
   "execution_count": 496,
   "metadata": {
    "collapsed": false
   },
   "outputs": [
    {
     "name": "stdout",
     "output_type": "stream",
     "text": [
      "& \\alpha_1 & \\alpha_2 & \\alpha_3 & \\alpha_4 & \\cr\n",
      " & -1 & -3 & -27 & -6 & -28 \\cr\n",
      " & 0 & 2 & -80 & -3 & -80 \\cr\n",
      " & 0 & 17 & 25 & 22 & 25 \\cr\n",
      " & 0 & 2 & -205 & -18 & -205 \\cr\n",
      "--------------------------\n"
     ]
    }
   ],
   "source": [
    "d(a, 4, 3, 2, '+')"
   ]
  },
  {
   "cell_type": "code",
   "execution_count": 497,
   "metadata": {
    "collapsed": false
   },
   "outputs": [
    {
     "name": "stdout",
     "output_type": "stream",
     "text": [
      "& \\alpha_1 & \\alpha_2 & \\alpha_3 & \\alpha_4 & \\cr\n",
      " & -1 & -3 & -27 & -6 & -28 \\cr\n",
      " & 0 & 2 & -80 & -3 & -80 \\cr\n",
      " & 0 & 17 & 25 & 22 & 25 \\cr\n",
      " & 0 & 0 & -125 & -15 & -125 \\cr\n",
      "--------------------------\n"
     ]
    }
   ],
   "source": [
    "d(a, 4, 2, 1, '-')"
   ]
  },
  {
   "cell_type": "code",
   "execution_count": 498,
   "metadata": {
    "collapsed": false
   },
   "outputs": [
    {
     "name": "stdout",
     "output_type": "stream",
     "text": [
      "& \\alpha_1 & \\alpha_2 & \\alpha_3 & \\alpha_4 & \\cr\n",
      " & -1 & -3 & -27 & -6 & -28 \\cr\n",
      " & 0 & 2 & -80 & -3 & -80 \\cr\n",
      " & 0 & -1 & 745 & 49 & 745 \\cr\n",
      " & 0 & 0 & -125 & -15 & -125 \\cr\n",
      "--------------------------\n"
     ]
    }
   ],
   "source": [
    "d(a, 3, 2, 9, '-')"
   ]
  },
  {
   "cell_type": "code",
   "execution_count": 499,
   "metadata": {
    "collapsed": false
   },
   "outputs": [
    {
     "name": "stdout",
     "output_type": "stream",
     "text": [
      "& \\alpha_1 & \\alpha_2 & \\alpha_3 & \\alpha_4 & \\cr\n",
      " & -1 & -3 & -27 & -6 & -28 \\cr\n",
      " & 0 & 0 & 1410 & 95 & 1410 \\cr\n",
      " & 0 & -1 & 745 & 49 & 745 \\cr\n",
      " & 0 & 0 & -125 & -15 & -125 \\cr\n",
      "--------------------------\n"
     ]
    }
   ],
   "source": [
    "d(a, 2, 3, 2, '+')"
   ]
  },
  {
   "cell_type": "code",
   "execution_count": 500,
   "metadata": {
    "collapsed": false
   },
   "outputs": [
    {
     "name": "stdout",
     "output_type": "stream",
     "text": [
      "& \\alpha_1 & \\alpha_2 & \\alpha_3 & \\alpha_4 & \\cr\n",
      " & -1 & -3 & -27 & -6 & -28 \\cr\n",
      " & 0 & -1 & 745 & 49 & 745 \\cr\n",
      " & 0 & 0 & 1410 & 95 & 1410 \\cr\n",
      " & 0 & 0 & -125 & -15 & -125 \\cr\n",
      "--------------------------\n"
     ]
    }
   ],
   "source": [
    "s(a, 2, 3)"
   ]
  },
  {
   "cell_type": "code",
   "execution_count": 501,
   "metadata": {
    "collapsed": false
   },
   "outputs": [
    {
     "name": "stdout",
     "output_type": "stream",
     "text": [
      "& \\alpha_1 & \\alpha_2 & \\alpha_3 & \\alpha_4 & \\cr\n",
      " & -1 & -3 & -27 & -6 & -28 \\cr\n",
      " & 0 & -1 & 745 & 49 & 745 \\cr\n",
      " & 0 & 0 & -90 & -85 & -90 \\cr\n",
      " & 0 & 0 & -125 & -15 & -125 \\cr\n",
      "--------------------------\n"
     ]
    }
   ],
   "source": [
    "d(a, 3, 4, 12, '+')"
   ]
  },
  {
   "cell_type": "code",
   "execution_count": 502,
   "metadata": {
    "collapsed": false
   },
   "outputs": [
    {
     "name": "stdout",
     "output_type": "stream",
     "text": [
      "& \\alpha_1 & \\alpha_2 & \\alpha_3 & \\alpha_4 & \\cr\n",
      " & -1 & -3 & -27 & -6 & -28 \\cr\n",
      " & 0 & -1 & 745 & 49 & 745 \\cr\n",
      " & 0 & 0 & -90 & -85 & -90 \\cr\n",
      " & 0 & 0 & -35 & 70 & -35 \\cr\n",
      "--------------------------\n"
     ]
    }
   ],
   "source": [
    "d(a, 4, 3, 1, '-')"
   ]
  },
  {
   "cell_type": "code",
   "execution_count": 503,
   "metadata": {
    "collapsed": false
   },
   "outputs": [
    {
     "name": "stdout",
     "output_type": "stream",
     "text": [
      "& \\alpha_1 & \\alpha_2 & \\alpha_3 & \\alpha_4 & \\cr\n",
      " & -1 & -3 & -27 & -6 & -28 \\cr\n",
      " & 0 & -1 & 745 & 49 & 745 \\cr\n",
      " & 0 & 0 & 15 & -295 & 15 \\cr\n",
      " & 0 & 0 & -35 & 70 & -35 \\cr\n",
      "--------------------------\n"
     ]
    }
   ],
   "source": [
    "d(a, 3, 4, 3, '-')"
   ]
  },
  {
   "cell_type": "code",
   "execution_count": 504,
   "metadata": {
    "collapsed": false
   },
   "outputs": [
    {
     "name": "stdout",
     "output_type": "stream",
     "text": [
      "& \\alpha_1 & \\alpha_2 & \\alpha_3 & \\alpha_4 & \\cr\n",
      " & -1 & -3 & -27 & -6 & -28 \\cr\n",
      " & 0 & -1 & 745 & 49 & 745 \\cr\n",
      " & 0 & 0 & 15 & -295 & 15 \\cr\n",
      " & 0 & 0 & -5 & -520 & -5 \\cr\n",
      "--------------------------\n"
     ]
    }
   ],
   "source": [
    "d(a, 4, 3, 2, '+')"
   ]
  },
  {
   "cell_type": "code",
   "execution_count": 505,
   "metadata": {
    "collapsed": false,
    "scrolled": true
   },
   "outputs": [
    {
     "name": "stdout",
     "output_type": "stream",
     "text": [
      "& \\alpha_1 & \\alpha_2 & \\alpha_3 & \\alpha_4 & \\cr\n",
      " & -1 & -3 & -27 & -6 & -28 \\cr\n",
      " & 0 & -1 & 745 & 49 & 745 \\cr\n",
      " & 0 & 0 & 0 & -1855 & 0 \\cr\n",
      " & 0 & 0 & -5 & -520 & -5 \\cr\n",
      "--------------------------\n"
     ]
    }
   ],
   "source": [
    "d(a, 3, 4, 3, '+')"
   ]
  },
  {
   "cell_type": "code",
   "execution_count": 506,
   "metadata": {
    "collapsed": false
   },
   "outputs": [
    {
     "name": "stdout",
     "output_type": "stream",
     "text": [
      "& \\alpha_1 & \\alpha_2 & \\alpha_3 & \\alpha_4 & \\cr\n",
      " & -1 & -3 & -27 & -6 & -28 \\cr\n",
      " & 0 & -1 & 745 & 49 & 745 \\cr\n",
      " & 0 & 0 & -5 & -520 & -5 \\cr\n",
      " & 0 & 0 & 0 & -1855 & 0 \\cr\n",
      "--------------------------\n"
     ]
    }
   ],
   "source": [
    "s(a, 3, 4)"
   ]
  },
  {
   "cell_type": "code",
   "execution_count": 507,
   "metadata": {
    "collapsed": false
   },
   "outputs": [
    {
     "name": "stdout",
     "output_type": "stream",
     "text": [
      "& \\alpha_1 & \\alpha_2 & \\alpha_3 & \\alpha_4 & \\cr\n",
      " & -1 & -3 & -27 & -6 & -28 \\cr\n",
      " & 0 & -1 & 0 & -77431 & 0 \\cr\n",
      " & 0 & 0 & -5 & -520 & -5 \\cr\n",
      " & 0 & 0 & 0 & -1855 & 0 \\cr\n",
      "--------------------------\n"
     ]
    }
   ],
   "source": [
    "d(a, 2, 3, 149, '+')"
   ]
  },
  {
   "cell_type": "code",
   "execution_count": 508,
   "metadata": {
    "collapsed": false
   },
   "outputs": [
    {
     "name": "stdout",
     "output_type": "stream",
     "text": [
      "& \\alpha_1 & \\alpha_2 & \\alpha_3 & \\alpha_4 & \\cr\n",
      " & -1 & 0 & -27 & 232287 & -28 \\cr\n",
      " & 0 & -1 & 0 & -77431 & 0 \\cr\n",
      " & 0 & 0 & -5 & -520 & -5 \\cr\n",
      " & 0 & 0 & 0 & -1855 & 0 \\cr\n",
      "--------------------------\n"
     ]
    }
   ],
   "source": [
    "d(a, 1, 2, 3, '-')"
   ]
  },
  {
   "cell_type": "code",
   "execution_count": 510,
   "metadata": {
    "collapsed": false
   },
   "outputs": [
    {
     "name": "stdout",
     "output_type": "stream",
     "text": [
      "& \\alpha_1 & \\alpha_2 & \\alpha_3 & \\alpha_4 & \\cr\n",
      " & -1 & 0 & -2 & 234887 & -3 \\cr\n",
      " & 0 & -1 & 0 & -77431 & 0 \\cr\n",
      " & 0 & 0 & -5 & -520 & -5 \\cr\n",
      " & 0 & 0 & 0 & -1855 & 0 \\cr\n",
      "--------------------------\n"
     ]
    }
   ],
   "source": [
    "d(a, 1, 3, 5, '-')"
   ]
  },
  {
   "cell_type": "code",
   "execution_count": null,
   "metadata": {
    "collapsed": true
   },
   "outputs": [],
   "source": []
  }
 ],
 "metadata": {
  "anaconda-cloud": {},
  "kernelspec": {
   "display_name": "Python [conda root]",
   "language": "python",
   "name": "conda-root-py"
  },
  "language_info": {
   "codemirror_mode": {
    "name": "ipython",
    "version": 3
   },
   "file_extension": ".py",
   "mimetype": "text/x-python",
   "name": "python",
   "nbconvert_exporter": "python",
   "pygments_lexer": "ipython3",
   "version": "3.5.2"
  }
 },
 "nbformat": 4,
 "nbformat_minor": 1
}
